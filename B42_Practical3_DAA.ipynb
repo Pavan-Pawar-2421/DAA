{
  "nbformat": 4,
  "nbformat_minor": 0,
  "metadata": {
    "colab": {
      "provenance": []
    },
    "kernelspec": {
      "name": "python3",
      "display_name": "Python 3"
    },
    "language_info": {
      "name": "python"
    }
  },
  "cells": [
    {
      "cell_type": "code",
      "execution_count": 1,
      "metadata": {
        "id": "8IL6394m7jpd"
      },
      "outputs": [],
      "source": [
        "weight=[7, 0, 30, 22, 80, 94, 11, 81, 70, 64, 59, 18, 0, 36, 3, 8, 15, 42, 9, 0,42, 47, 52, 32,\n",
        "26, 48, 55, 6, 29, 84, 2, 4, 18, 56, 7, 29, 93, 44, 71,3, 86, 66, 31, 65, 0, 79, 20, 65,\n",
        "52, 13]\n",
        "profit=[ 360, 83, 59, 130, 431, 67, 230, 52, 93, 125, 670, 892, 600, 38, 48, 147, 78, 256,\n",
        "63, 17, 120, 164, 432, 35, 92, 110, 22, 42, 50, 323, 514, 28, 87, 73, 78, 15, 26, 78,\n",
        "210, 36, 85, 189, 274, 43, 33, 10, 19, 389, 276,312 ]\n",
        "\n"
      ]
    },
    {
      "cell_type": "code",
      "source": [
        "weight=[1 if(i==0) else i for i in weight]\n",
        "weight"
      ],
      "metadata": {
        "colab": {
          "base_uri": "https://localhost:8080/",
          "height": 0
        },
        "id": "iBd9QdmxKrlW",
        "outputId": "a9b21bbf-9bf3-4ccc-979f-34221720aea6"
      },
      "execution_count": 2,
      "outputs": [
        {
          "output_type": "execute_result",
          "data": {
            "text/plain": [
              "[7,\n",
              " 1,\n",
              " 30,\n",
              " 22,\n",
              " 80,\n",
              " 94,\n",
              " 11,\n",
              " 81,\n",
              " 70,\n",
              " 64,\n",
              " 59,\n",
              " 18,\n",
              " 1,\n",
              " 36,\n",
              " 3,\n",
              " 8,\n",
              " 15,\n",
              " 42,\n",
              " 9,\n",
              " 1,\n",
              " 42,\n",
              " 47,\n",
              " 52,\n",
              " 32,\n",
              " 26,\n",
              " 48,\n",
              " 55,\n",
              " 6,\n",
              " 29,\n",
              " 84,\n",
              " 2,\n",
              " 4,\n",
              " 18,\n",
              " 56,\n",
              " 7,\n",
              " 29,\n",
              " 93,\n",
              " 44,\n",
              " 71,\n",
              " 3,\n",
              " 86,\n",
              " 66,\n",
              " 31,\n",
              " 65,\n",
              " 1,\n",
              " 79,\n",
              " 20,\n",
              " 65,\n",
              " 52,\n",
              " 13]"
            ]
          },
          "metadata": {},
          "execution_count": 2
        }
      ]
    },
    {
      "cell_type": "code",
      "source": [
        "data=[[weight[i],profit[i]] for i in range(len(weight))]\n",
        "data"
      ],
      "metadata": {
        "colab": {
          "base_uri": "https://localhost:8080/",
          "height": 0
        },
        "id": "TwnDS3pC8cBb",
        "outputId": "ad912948-b956-4db9-8a45-8a785d577e00"
      },
      "execution_count": 3,
      "outputs": [
        {
          "output_type": "execute_result",
          "data": {
            "text/plain": [
              "[[7, 360],\n",
              " [1, 83],\n",
              " [30, 59],\n",
              " [22, 130],\n",
              " [80, 431],\n",
              " [94, 67],\n",
              " [11, 230],\n",
              " [81, 52],\n",
              " [70, 93],\n",
              " [64, 125],\n",
              " [59, 670],\n",
              " [18, 892],\n",
              " [1, 600],\n",
              " [36, 38],\n",
              " [3, 48],\n",
              " [8, 147],\n",
              " [15, 78],\n",
              " [42, 256],\n",
              " [9, 63],\n",
              " [1, 17],\n",
              " [42, 120],\n",
              " [47, 164],\n",
              " [52, 432],\n",
              " [32, 35],\n",
              " [26, 92],\n",
              " [48, 110],\n",
              " [55, 22],\n",
              " [6, 42],\n",
              " [29, 50],\n",
              " [84, 323],\n",
              " [2, 514],\n",
              " [4, 28],\n",
              " [18, 87],\n",
              " [56, 73],\n",
              " [7, 78],\n",
              " [29, 15],\n",
              " [93, 26],\n",
              " [44, 78],\n",
              " [71, 210],\n",
              " [3, 36],\n",
              " [86, 85],\n",
              " [66, 189],\n",
              " [31, 274],\n",
              " [65, 43],\n",
              " [1, 33],\n",
              " [79, 10],\n",
              " [20, 19],\n",
              " [65, 389],\n",
              " [52, 276],\n",
              " [13, 312]]"
            ]
          },
          "metadata": {},
          "execution_count": 3
        }
      ]
    },
    {
      "cell_type": "code",
      "source": [
        "pw=list(map(lambda x,y: x/y if(y!=0) else x , profit,weight))\n",
        "pw"
      ],
      "metadata": {
        "colab": {
          "base_uri": "https://localhost:8080/",
          "height": 0
        },
        "id": "XgEzdlcf8_2b",
        "outputId": "181e0014-a3de-40af-ff9c-5b5d2ae4dba7"
      },
      "execution_count": 4,
      "outputs": [
        {
          "output_type": "execute_result",
          "data": {
            "text/plain": [
              "[51.42857142857143,\n",
              " 83.0,\n",
              " 1.9666666666666666,\n",
              " 5.909090909090909,\n",
              " 5.3875,\n",
              " 0.7127659574468085,\n",
              " 20.90909090909091,\n",
              " 0.6419753086419753,\n",
              " 1.3285714285714285,\n",
              " 1.953125,\n",
              " 11.35593220338983,\n",
              " 49.55555555555556,\n",
              " 600.0,\n",
              " 1.0555555555555556,\n",
              " 16.0,\n",
              " 18.375,\n",
              " 5.2,\n",
              " 6.095238095238095,\n",
              " 7.0,\n",
              " 17.0,\n",
              " 2.857142857142857,\n",
              " 3.4893617021276597,\n",
              " 8.307692307692308,\n",
              " 1.09375,\n",
              " 3.5384615384615383,\n",
              " 2.2916666666666665,\n",
              " 0.4,\n",
              " 7.0,\n",
              " 1.7241379310344827,\n",
              " 3.8452380952380953,\n",
              " 257.0,\n",
              " 7.0,\n",
              " 4.833333333333333,\n",
              " 1.3035714285714286,\n",
              " 11.142857142857142,\n",
              " 0.5172413793103449,\n",
              " 0.27956989247311825,\n",
              " 1.7727272727272727,\n",
              " 2.9577464788732395,\n",
              " 12.0,\n",
              " 0.9883720930232558,\n",
              " 2.8636363636363638,\n",
              " 8.838709677419354,\n",
              " 0.6615384615384615,\n",
              " 33.0,\n",
              " 0.12658227848101267,\n",
              " 0.95,\n",
              " 5.984615384615385,\n",
              " 5.3076923076923075,\n",
              " 24.0]"
            ]
          },
          "metadata": {},
          "execution_count": 4
        }
      ]
    },
    {
      "cell_type": "code",
      "source": [
        "for i in range(len(data)):\n",
        "  data[i].append(pw[i])\n",
        "data"
      ],
      "metadata": {
        "colab": {
          "base_uri": "https://localhost:8080/",
          "height": 0
        },
        "id": "RLJSXAUE936r",
        "outputId": "6f7537f3-ea77-4da3-d17f-d5f148fe7af3"
      },
      "execution_count": 5,
      "outputs": [
        {
          "output_type": "execute_result",
          "data": {
            "text/plain": [
              "[[7, 360, 51.42857142857143],\n",
              " [1, 83, 83.0],\n",
              " [30, 59, 1.9666666666666666],\n",
              " [22, 130, 5.909090909090909],\n",
              " [80, 431, 5.3875],\n",
              " [94, 67, 0.7127659574468085],\n",
              " [11, 230, 20.90909090909091],\n",
              " [81, 52, 0.6419753086419753],\n",
              " [70, 93, 1.3285714285714285],\n",
              " [64, 125, 1.953125],\n",
              " [59, 670, 11.35593220338983],\n",
              " [18, 892, 49.55555555555556],\n",
              " [1, 600, 600.0],\n",
              " [36, 38, 1.0555555555555556],\n",
              " [3, 48, 16.0],\n",
              " [8, 147, 18.375],\n",
              " [15, 78, 5.2],\n",
              " [42, 256, 6.095238095238095],\n",
              " [9, 63, 7.0],\n",
              " [1, 17, 17.0],\n",
              " [42, 120, 2.857142857142857],\n",
              " [47, 164, 3.4893617021276597],\n",
              " [52, 432, 8.307692307692308],\n",
              " [32, 35, 1.09375],\n",
              " [26, 92, 3.5384615384615383],\n",
              " [48, 110, 2.2916666666666665],\n",
              " [55, 22, 0.4],\n",
              " [6, 42, 7.0],\n",
              " [29, 50, 1.7241379310344827],\n",
              " [84, 323, 3.8452380952380953],\n",
              " [2, 514, 257.0],\n",
              " [4, 28, 7.0],\n",
              " [18, 87, 4.833333333333333],\n",
              " [56, 73, 1.3035714285714286],\n",
              " [7, 78, 11.142857142857142],\n",
              " [29, 15, 0.5172413793103449],\n",
              " [93, 26, 0.27956989247311825],\n",
              " [44, 78, 1.7727272727272727],\n",
              " [71, 210, 2.9577464788732395],\n",
              " [3, 36, 12.0],\n",
              " [86, 85, 0.9883720930232558],\n",
              " [66, 189, 2.8636363636363638],\n",
              " [31, 274, 8.838709677419354],\n",
              " [65, 43, 0.6615384615384615],\n",
              " [1, 33, 33.0],\n",
              " [79, 10, 0.12658227848101267],\n",
              " [20, 19, 0.95],\n",
              " [65, 389, 5.984615384615385],\n",
              " [52, 276, 5.3076923076923075],\n",
              " [13, 312, 24.0]]"
            ]
          },
          "metadata": {},
          "execution_count": 5
        }
      ]
    },
    {
      "cell_type": "code",
      "source": [
        "min_wt=sorted(data,key=lambda x: x[0])\n",
        "max_profit=sorted(data,key=lambda x: x[1],reverse=True)\n",
        "max_pw=sorted(data,key=lambda x: x[2],reverse=True)"
      ],
      "metadata": {
        "id": "wyigvJIi-kOW"
      },
      "execution_count": 6,
      "outputs": []
    },
    {
      "cell_type": "code",
      "source": [
        "data"
      ],
      "metadata": {
        "colab": {
          "base_uri": "https://localhost:8080/",
          "height": 0
        },
        "id": "Ao0sD1xqABwb",
        "outputId": "049f73ac-ea98-418f-cf20-21f9b8488b72"
      },
      "execution_count": 7,
      "outputs": [
        {
          "output_type": "execute_result",
          "data": {
            "text/plain": [
              "[[7, 360, 51.42857142857143],\n",
              " [1, 83, 83.0],\n",
              " [30, 59, 1.9666666666666666],\n",
              " [22, 130, 5.909090909090909],\n",
              " [80, 431, 5.3875],\n",
              " [94, 67, 0.7127659574468085],\n",
              " [11, 230, 20.90909090909091],\n",
              " [81, 52, 0.6419753086419753],\n",
              " [70, 93, 1.3285714285714285],\n",
              " [64, 125, 1.953125],\n",
              " [59, 670, 11.35593220338983],\n",
              " [18, 892, 49.55555555555556],\n",
              " [1, 600, 600.0],\n",
              " [36, 38, 1.0555555555555556],\n",
              " [3, 48, 16.0],\n",
              " [8, 147, 18.375],\n",
              " [15, 78, 5.2],\n",
              " [42, 256, 6.095238095238095],\n",
              " [9, 63, 7.0],\n",
              " [1, 17, 17.0],\n",
              " [42, 120, 2.857142857142857],\n",
              " [47, 164, 3.4893617021276597],\n",
              " [52, 432, 8.307692307692308],\n",
              " [32, 35, 1.09375],\n",
              " [26, 92, 3.5384615384615383],\n",
              " [48, 110, 2.2916666666666665],\n",
              " [55, 22, 0.4],\n",
              " [6, 42, 7.0],\n",
              " [29, 50, 1.7241379310344827],\n",
              " [84, 323, 3.8452380952380953],\n",
              " [2, 514, 257.0],\n",
              " [4, 28, 7.0],\n",
              " [18, 87, 4.833333333333333],\n",
              " [56, 73, 1.3035714285714286],\n",
              " [7, 78, 11.142857142857142],\n",
              " [29, 15, 0.5172413793103449],\n",
              " [93, 26, 0.27956989247311825],\n",
              " [44, 78, 1.7727272727272727],\n",
              " [71, 210, 2.9577464788732395],\n",
              " [3, 36, 12.0],\n",
              " [86, 85, 0.9883720930232558],\n",
              " [66, 189, 2.8636363636363638],\n",
              " [31, 274, 8.838709677419354],\n",
              " [65, 43, 0.6615384615384615],\n",
              " [1, 33, 33.0],\n",
              " [79, 10, 0.12658227848101267],\n",
              " [20, 19, 0.95],\n",
              " [65, 389, 5.984615384615385],\n",
              " [52, 276, 5.3076923076923075],\n",
              " [13, 312, 24.0]]"
            ]
          },
          "metadata": {},
          "execution_count": 7
        }
      ]
    },
    {
      "cell_type": "code",
      "source": [
        "min_wt"
      ],
      "metadata": {
        "colab": {
          "base_uri": "https://localhost:8080/",
          "height": 0
        },
        "id": "zxYlYT5xADCh",
        "outputId": "701aeff5-3f62-4f50-eb3f-f96036d4ed87"
      },
      "execution_count": 8,
      "outputs": [
        {
          "output_type": "execute_result",
          "data": {
            "text/plain": [
              "[[1, 83, 83.0],\n",
              " [1, 600, 600.0],\n",
              " [1, 17, 17.0],\n",
              " [1, 33, 33.0],\n",
              " [2, 514, 257.0],\n",
              " [3, 48, 16.0],\n",
              " [3, 36, 12.0],\n",
              " [4, 28, 7.0],\n",
              " [6, 42, 7.0],\n",
              " [7, 360, 51.42857142857143],\n",
              " [7, 78, 11.142857142857142],\n",
              " [8, 147, 18.375],\n",
              " [9, 63, 7.0],\n",
              " [11, 230, 20.90909090909091],\n",
              " [13, 312, 24.0],\n",
              " [15, 78, 5.2],\n",
              " [18, 892, 49.55555555555556],\n",
              " [18, 87, 4.833333333333333],\n",
              " [20, 19, 0.95],\n",
              " [22, 130, 5.909090909090909],\n",
              " [26, 92, 3.5384615384615383],\n",
              " [29, 50, 1.7241379310344827],\n",
              " [29, 15, 0.5172413793103449],\n",
              " [30, 59, 1.9666666666666666],\n",
              " [31, 274, 8.838709677419354],\n",
              " [32, 35, 1.09375],\n",
              " [36, 38, 1.0555555555555556],\n",
              " [42, 256, 6.095238095238095],\n",
              " [42, 120, 2.857142857142857],\n",
              " [44, 78, 1.7727272727272727],\n",
              " [47, 164, 3.4893617021276597],\n",
              " [48, 110, 2.2916666666666665],\n",
              " [52, 432, 8.307692307692308],\n",
              " [52, 276, 5.3076923076923075],\n",
              " [55, 22, 0.4],\n",
              " [56, 73, 1.3035714285714286],\n",
              " [59, 670, 11.35593220338983],\n",
              " [64, 125, 1.953125],\n",
              " [65, 43, 0.6615384615384615],\n",
              " [65, 389, 5.984615384615385],\n",
              " [66, 189, 2.8636363636363638],\n",
              " [70, 93, 1.3285714285714285],\n",
              " [71, 210, 2.9577464788732395],\n",
              " [79, 10, 0.12658227848101267],\n",
              " [80, 431, 5.3875],\n",
              " [81, 52, 0.6419753086419753],\n",
              " [84, 323, 3.8452380952380953],\n",
              " [86, 85, 0.9883720930232558],\n",
              " [93, 26, 0.27956989247311825],\n",
              " [94, 67, 0.7127659574468085]]"
            ]
          },
          "metadata": {},
          "execution_count": 8
        }
      ]
    },
    {
      "cell_type": "code",
      "source": [
        "max_profit"
      ],
      "metadata": {
        "colab": {
          "base_uri": "https://localhost:8080/",
          "height": 0
        },
        "id": "8pdZ-bUAAFgN",
        "outputId": "05675820-f1bf-4fde-fe93-6602eeba9aa5"
      },
      "execution_count": 9,
      "outputs": [
        {
          "output_type": "execute_result",
          "data": {
            "text/plain": [
              "[[18, 892, 49.55555555555556],\n",
              " [59, 670, 11.35593220338983],\n",
              " [1, 600, 600.0],\n",
              " [2, 514, 257.0],\n",
              " [52, 432, 8.307692307692308],\n",
              " [80, 431, 5.3875],\n",
              " [65, 389, 5.984615384615385],\n",
              " [7, 360, 51.42857142857143],\n",
              " [84, 323, 3.8452380952380953],\n",
              " [13, 312, 24.0],\n",
              " [52, 276, 5.3076923076923075],\n",
              " [31, 274, 8.838709677419354],\n",
              " [42, 256, 6.095238095238095],\n",
              " [11, 230, 20.90909090909091],\n",
              " [71, 210, 2.9577464788732395],\n",
              " [66, 189, 2.8636363636363638],\n",
              " [47, 164, 3.4893617021276597],\n",
              " [8, 147, 18.375],\n",
              " [22, 130, 5.909090909090909],\n",
              " [64, 125, 1.953125],\n",
              " [42, 120, 2.857142857142857],\n",
              " [48, 110, 2.2916666666666665],\n",
              " [70, 93, 1.3285714285714285],\n",
              " [26, 92, 3.5384615384615383],\n",
              " [18, 87, 4.833333333333333],\n",
              " [86, 85, 0.9883720930232558],\n",
              " [1, 83, 83.0],\n",
              " [15, 78, 5.2],\n",
              " [7, 78, 11.142857142857142],\n",
              " [44, 78, 1.7727272727272727],\n",
              " [56, 73, 1.3035714285714286],\n",
              " [94, 67, 0.7127659574468085],\n",
              " [9, 63, 7.0],\n",
              " [30, 59, 1.9666666666666666],\n",
              " [81, 52, 0.6419753086419753],\n",
              " [29, 50, 1.7241379310344827],\n",
              " [3, 48, 16.0],\n",
              " [65, 43, 0.6615384615384615],\n",
              " [6, 42, 7.0],\n",
              " [36, 38, 1.0555555555555556],\n",
              " [3, 36, 12.0],\n",
              " [32, 35, 1.09375],\n",
              " [1, 33, 33.0],\n",
              " [4, 28, 7.0],\n",
              " [93, 26, 0.27956989247311825],\n",
              " [55, 22, 0.4],\n",
              " [20, 19, 0.95],\n",
              " [1, 17, 17.0],\n",
              " [29, 15, 0.5172413793103449],\n",
              " [79, 10, 0.12658227848101267]]"
            ]
          },
          "metadata": {},
          "execution_count": 9
        }
      ]
    },
    {
      "cell_type": "code",
      "source": [
        "max_pw"
      ],
      "metadata": {
        "colab": {
          "base_uri": "https://localhost:8080/",
          "height": 0
        },
        "id": "Vyshsb-sAIf3",
        "outputId": "5ce0ed40-07fe-4955-87fd-cedd5ee7b666"
      },
      "execution_count": 10,
      "outputs": [
        {
          "output_type": "execute_result",
          "data": {
            "text/plain": [
              "[[1, 600, 600.0],\n",
              " [2, 514, 257.0],\n",
              " [1, 83, 83.0],\n",
              " [7, 360, 51.42857142857143],\n",
              " [18, 892, 49.55555555555556],\n",
              " [1, 33, 33.0],\n",
              " [13, 312, 24.0],\n",
              " [11, 230, 20.90909090909091],\n",
              " [8, 147, 18.375],\n",
              " [1, 17, 17.0],\n",
              " [3, 48, 16.0],\n",
              " [3, 36, 12.0],\n",
              " [59, 670, 11.35593220338983],\n",
              " [7, 78, 11.142857142857142],\n",
              " [31, 274, 8.838709677419354],\n",
              " [52, 432, 8.307692307692308],\n",
              " [9, 63, 7.0],\n",
              " [6, 42, 7.0],\n",
              " [4, 28, 7.0],\n",
              " [42, 256, 6.095238095238095],\n",
              " [65, 389, 5.984615384615385],\n",
              " [22, 130, 5.909090909090909],\n",
              " [80, 431, 5.3875],\n",
              " [52, 276, 5.3076923076923075],\n",
              " [15, 78, 5.2],\n",
              " [18, 87, 4.833333333333333],\n",
              " [84, 323, 3.8452380952380953],\n",
              " [26, 92, 3.5384615384615383],\n",
              " [47, 164, 3.4893617021276597],\n",
              " [71, 210, 2.9577464788732395],\n",
              " [66, 189, 2.8636363636363638],\n",
              " [42, 120, 2.857142857142857],\n",
              " [48, 110, 2.2916666666666665],\n",
              " [30, 59, 1.9666666666666666],\n",
              " [64, 125, 1.953125],\n",
              " [44, 78, 1.7727272727272727],\n",
              " [29, 50, 1.7241379310344827],\n",
              " [70, 93, 1.3285714285714285],\n",
              " [56, 73, 1.3035714285714286],\n",
              " [32, 35, 1.09375],\n",
              " [36, 38, 1.0555555555555556],\n",
              " [86, 85, 0.9883720930232558],\n",
              " [20, 19, 0.95],\n",
              " [94, 67, 0.7127659574468085],\n",
              " [65, 43, 0.6615384615384615],\n",
              " [81, 52, 0.6419753086419753],\n",
              " [29, 15, 0.5172413793103449],\n",
              " [55, 22, 0.4],\n",
              " [93, 26, 0.27956989247311825],\n",
              " [79, 10, 0.12658227848101267]]"
            ]
          },
          "metadata": {},
          "execution_count": 10
        }
      ]
    },
    {
      "cell_type": "code",
      "source": [
        "capacity=850"
      ],
      "metadata": {
        "id": "dyAuUS-rAYn8"
      },
      "execution_count": 11,
      "outputs": []
    },
    {
      "cell_type": "code",
      "source": [
        "filled=0\n",
        "i=0\n",
        "p=0\n",
        "print(\"weight \\t profit \\t\\t remaining \\t partiacl/complete\")\n",
        "while(filled<capacity):\n",
        "  x=None\n",
        "  pc=None\n",
        "  tmp=min_wt[i]\n",
        "  if((filled + tmp[0])<=capacity):\n",
        "    filled+=tmp[0]\n",
        "    x=1\n",
        "    pc='C'\n",
        "  else:\n",
        "    x=(capacity-filled)/tmp[0]\n",
        "    pc='P'\n",
        "    filled+=tmp[0]*x\n",
        "  p+=(tmp[1]*x)\n",
        "  print(tmp[0]*x,\"\\t\",round(tmp[1]*x,2),\"\\t\\t\\t\",capacity-filled,\"\\t\\t\",pc)\n",
        "  i+=1\n",
        "print(\"total weight\",filled,\"total profit\",round(p,2),\"remaining\",capacity-filled)\n"
      ],
      "metadata": {
        "colab": {
          "base_uri": "https://localhost:8080/",
          "height": 0
        },
        "id": "OLWKnY8OBIeU",
        "outputId": "5fba6a6d-60f6-4c0c-f1cf-4f280b90bd8c"
      },
      "execution_count": 12,
      "outputs": [
        {
          "output_type": "stream",
          "name": "stdout",
          "text": [
            "weight \t profit \t\t remaining \t partiacl/complete\n",
            "1 \t 83 \t\t\t 849 \t\t C\n",
            "1 \t 600 \t\t\t 848 \t\t C\n",
            "1 \t 17 \t\t\t 847 \t\t C\n",
            "1 \t 33 \t\t\t 846 \t\t C\n",
            "2 \t 514 \t\t\t 844 \t\t C\n",
            "3 \t 48 \t\t\t 841 \t\t C\n",
            "3 \t 36 \t\t\t 838 \t\t C\n",
            "4 \t 28 \t\t\t 834 \t\t C\n",
            "6 \t 42 \t\t\t 828 \t\t C\n",
            "7 \t 360 \t\t\t 821 \t\t C\n",
            "7 \t 78 \t\t\t 814 \t\t C\n",
            "8 \t 147 \t\t\t 806 \t\t C\n",
            "9 \t 63 \t\t\t 797 \t\t C\n",
            "11 \t 230 \t\t\t 786 \t\t C\n",
            "13 \t 312 \t\t\t 773 \t\t C\n",
            "15 \t 78 \t\t\t 758 \t\t C\n",
            "18 \t 892 \t\t\t 740 \t\t C\n",
            "18 \t 87 \t\t\t 722 \t\t C\n",
            "20 \t 19 \t\t\t 702 \t\t C\n",
            "22 \t 130 \t\t\t 680 \t\t C\n",
            "26 \t 92 \t\t\t 654 \t\t C\n",
            "29 \t 50 \t\t\t 625 \t\t C\n",
            "29 \t 15 \t\t\t 596 \t\t C\n",
            "30 \t 59 \t\t\t 566 \t\t C\n",
            "31 \t 274 \t\t\t 535 \t\t C\n",
            "32 \t 35 \t\t\t 503 \t\t C\n",
            "36 \t 38 \t\t\t 467 \t\t C\n",
            "42 \t 256 \t\t\t 425 \t\t C\n",
            "42 \t 120 \t\t\t 383 \t\t C\n",
            "44 \t 78 \t\t\t 339 \t\t C\n",
            "47 \t 164 \t\t\t 292 \t\t C\n",
            "48 \t 110 \t\t\t 244 \t\t C\n",
            "52 \t 432 \t\t\t 192 \t\t C\n",
            "52 \t 276 \t\t\t 140 \t\t C\n",
            "55 \t 22 \t\t\t 85 \t\t C\n",
            "56 \t 73 \t\t\t 29 \t\t C\n",
            "29.0 \t 329.32 \t\t\t 0.0 \t\t P\n",
            "total weight 850.0 total profit 6220.32 remaining 0.0\n"
          ]
        }
      ]
    },
    {
      "cell_type": "code",
      "source": [
        "def min_wt(weight,profit):\n",
        "  data=[[weight[i],profit[i]] for i in range(len(weight))]\n",
        "  min_wt=sorted(data,key=lambda x: x[0])\n",
        "  filled=0\n",
        "  i=0\n",
        "  p=0\n",
        "  print(\"weight \\t profit \\t\\t remaining \\t partiacl/complete\")\n",
        "  while(filled<capacity):\n",
        "    x=None\n",
        "    pc=None\n",
        "    tmp=min_wt[i]\n",
        "    if((filled + tmp[0])<=capacity):\n",
        "      filled+=tmp[0]\n",
        "      x=1\n",
        "      pc='C'\n",
        "    else:\n",
        "      x=(capacity-filled)/tmp[0]\n",
        "      pc='P'\n",
        "      filled+=tmp[0]*x\n",
        "    p+=(tmp[1]*x)\n",
        "    print(tmp[0]*x,\"\\t\",round(tmp[1]*x,2),\"\\t\\t\\t\",capacity-filled,\"\\t\\t\",pc)\n",
        "    i+=1\n",
        "  print(\"total weight:\",filled,\"total profit:\",round(p,2),\"remaining:\",capacity-filled)"
      ],
      "metadata": {
        "id": "MhQNE-bxGgqP"
      },
      "execution_count": 13,
      "outputs": []
    },
    {
      "cell_type": "code",
      "source": [
        "min_wt(weight,profit)"
      ],
      "metadata": {
        "colab": {
          "base_uri": "https://localhost:8080/",
          "height": 0
        },
        "id": "mRpHuC4BIwGf",
        "outputId": "dd0e4930-38c7-411b-c516-930582547d5d"
      },
      "execution_count": 14,
      "outputs": [
        {
          "output_type": "stream",
          "name": "stdout",
          "text": [
            "weight \t profit \t\t remaining \t partiacl/complete\n",
            "1 \t 83 \t\t\t 849 \t\t C\n",
            "1 \t 600 \t\t\t 848 \t\t C\n",
            "1 \t 17 \t\t\t 847 \t\t C\n",
            "1 \t 33 \t\t\t 846 \t\t C\n",
            "2 \t 514 \t\t\t 844 \t\t C\n",
            "3 \t 48 \t\t\t 841 \t\t C\n",
            "3 \t 36 \t\t\t 838 \t\t C\n",
            "4 \t 28 \t\t\t 834 \t\t C\n",
            "6 \t 42 \t\t\t 828 \t\t C\n",
            "7 \t 360 \t\t\t 821 \t\t C\n",
            "7 \t 78 \t\t\t 814 \t\t C\n",
            "8 \t 147 \t\t\t 806 \t\t C\n",
            "9 \t 63 \t\t\t 797 \t\t C\n",
            "11 \t 230 \t\t\t 786 \t\t C\n",
            "13 \t 312 \t\t\t 773 \t\t C\n",
            "15 \t 78 \t\t\t 758 \t\t C\n",
            "18 \t 892 \t\t\t 740 \t\t C\n",
            "18 \t 87 \t\t\t 722 \t\t C\n",
            "20 \t 19 \t\t\t 702 \t\t C\n",
            "22 \t 130 \t\t\t 680 \t\t C\n",
            "26 \t 92 \t\t\t 654 \t\t C\n",
            "29 \t 50 \t\t\t 625 \t\t C\n",
            "29 \t 15 \t\t\t 596 \t\t C\n",
            "30 \t 59 \t\t\t 566 \t\t C\n",
            "31 \t 274 \t\t\t 535 \t\t C\n",
            "32 \t 35 \t\t\t 503 \t\t C\n",
            "36 \t 38 \t\t\t 467 \t\t C\n",
            "42 \t 256 \t\t\t 425 \t\t C\n",
            "42 \t 120 \t\t\t 383 \t\t C\n",
            "44 \t 78 \t\t\t 339 \t\t C\n",
            "47 \t 164 \t\t\t 292 \t\t C\n",
            "48 \t 110 \t\t\t 244 \t\t C\n",
            "52 \t 432 \t\t\t 192 \t\t C\n",
            "52 \t 276 \t\t\t 140 \t\t C\n",
            "55 \t 22 \t\t\t 85 \t\t C\n",
            "56 \t 73 \t\t\t 29 \t\t C\n",
            "29.0 \t 329.32 \t\t\t 0.0 \t\t P\n",
            "total weight: 850.0 total profit: 6220.32 remaining: 0.0\n"
          ]
        }
      ]
    },
    {
      "cell_type": "code",
      "source": [
        "def max_profit(weight,profit):\n",
        "  data=[[weight[i],profit[i]] for i in range(len(weight))]\n",
        "  max_profit=sorted(data,key=lambda x: x[1],reverse=True)\n",
        "  filled=0\n",
        "  i=0\n",
        "  p=0\n",
        "  print(\"weight \\t profit \\t\\t remaining \\t partiacl/complete\")\n",
        "  while(filled<capacity):\n",
        "    x=None\n",
        "    pc=None\n",
        "    tmp=max_profit[i]\n",
        "    if((filled + tmp[0])<=capacity):\n",
        "      filled+=tmp[0]\n",
        "      x=1\n",
        "      pc='C'\n",
        "    else:\n",
        "      x=(capacity-filled)/tmp[0]\n",
        "      pc='P'\n",
        "      filled+=tmp[0]*x\n",
        "    p+=(tmp[1]*x)\n",
        "    print(tmp[0]*x,\"\\t\",round(tmp[1]*x,2),\"\\t\\t\\t\",capacity-filled,\"\\t\\t\",pc)\n",
        "    i+=1\n",
        "  print(\"total weight:\",filled,\"total profit:\",round(p,2),\"remaining:\",capacity-filled)"
      ],
      "metadata": {
        "id": "9IBYYLg0I0Rq"
      },
      "execution_count": 15,
      "outputs": []
    },
    {
      "cell_type": "code",
      "source": [
        "max_profit(weight,profit)"
      ],
      "metadata": {
        "colab": {
          "base_uri": "https://localhost:8080/",
          "height": 0
        },
        "id": "w_0rnydKJC9F",
        "outputId": "206d82f2-a888-436d-d230-4953d439c877"
      },
      "execution_count": 16,
      "outputs": [
        {
          "output_type": "stream",
          "name": "stdout",
          "text": [
            "weight \t profit \t\t remaining \t partiacl/complete\n",
            "18 \t 892 \t\t\t 832 \t\t C\n",
            "59 \t 670 \t\t\t 773 \t\t C\n",
            "1 \t 600 \t\t\t 772 \t\t C\n",
            "2 \t 514 \t\t\t 770 \t\t C\n",
            "52 \t 432 \t\t\t 718 \t\t C\n",
            "80 \t 431 \t\t\t 638 \t\t C\n",
            "65 \t 389 \t\t\t 573 \t\t C\n",
            "7 \t 360 \t\t\t 566 \t\t C\n",
            "84 \t 323 \t\t\t 482 \t\t C\n",
            "13 \t 312 \t\t\t 469 \t\t C\n",
            "52 \t 276 \t\t\t 417 \t\t C\n",
            "31 \t 274 \t\t\t 386 \t\t C\n",
            "42 \t 256 \t\t\t 344 \t\t C\n",
            "11 \t 230 \t\t\t 333 \t\t C\n",
            "71 \t 210 \t\t\t 262 \t\t C\n",
            "66 \t 189 \t\t\t 196 \t\t C\n",
            "47 \t 164 \t\t\t 149 \t\t C\n",
            "8 \t 147 \t\t\t 141 \t\t C\n",
            "22 \t 130 \t\t\t 119 \t\t C\n",
            "64 \t 125 \t\t\t 55 \t\t C\n",
            "42 \t 120 \t\t\t 13 \t\t C\n",
            "13.0 \t 29.79 \t\t\t 0.0 \t\t P\n",
            "total weight: 850.0 total profit: 7073.79 remaining: 0.0\n"
          ]
        }
      ]
    },
    {
      "cell_type": "code",
      "source": [
        "def max_pw(weight,profit):\n",
        "  data=[[weight[i],profit[i]] for i in range(len(weight))]\n",
        "  pw=list(map(lambda x,y: x/y if(y!=0) else 0 , profit,weight))\n",
        "  for i in range(len(data)):\n",
        "    data[i].append(pw[i])\n",
        "  max_pw=sorted(data,key=lambda x: x[2],reverse=True)\n",
        "  filled=0\n",
        "  i=0\n",
        "  p=0\n",
        "  print(\"weight \\t profit \\t\\t p/w \\t remaining \\t partiacl/complete\")\n",
        "  while(filled<capacity):\n",
        "    x=None\n",
        "    pc=None\n",
        "    tmp=max_pw[i]\n",
        "    if((filled + tmp[0])<=capacity):\n",
        "      filled+=tmp[0]\n",
        "      x=1\n",
        "      pc='C'\n",
        "    else:\n",
        "      x=(capacity-filled)/tmp[0]\n",
        "      pc='P'\n",
        "      filled+=tmp[0]*x\n",
        "    p+=(tmp[1]*x)\n",
        "    print(tmp[0]*x,\"\\t\",round(tmp[1]*x,2),\"\\t\\t\\t\",tmp[2],\"\\t\",capacity-filled,\"\\t\\t\",pc)\n",
        "    i+=1\n",
        "  print(\"total weight:\",filled,\"total profit:\",round(p,2),\"remaining:\",capacity-filled)"
      ],
      "metadata": {
        "id": "49CkUdRMJNce"
      },
      "execution_count": 17,
      "outputs": []
    },
    {
      "cell_type": "code",
      "source": [
        "max_pw(weight,profit)"
      ],
      "metadata": {
        "colab": {
          "base_uri": "https://localhost:8080/",
          "height": 0
        },
        "id": "zmGaif44KBSi",
        "outputId": "258189a2-89e4-48b0-b307-4025066e4989"
      },
      "execution_count": 18,
      "outputs": [
        {
          "output_type": "stream",
          "name": "stdout",
          "text": [
            "weight \t profit \t\t p/w \t remaining \t partiacl/complete\n",
            "1 \t 600 \t\t\t 600.0 \t 849 \t\t C\n",
            "2 \t 514 \t\t\t 257.0 \t 847 \t\t C\n",
            "1 \t 83 \t\t\t 83.0 \t 846 \t\t C\n",
            "7 \t 360 \t\t\t 51.42857142857143 \t 839 \t\t C\n",
            "18 \t 892 \t\t\t 49.55555555555556 \t 821 \t\t C\n",
            "1 \t 33 \t\t\t 33.0 \t 820 \t\t C\n",
            "13 \t 312 \t\t\t 24.0 \t 807 \t\t C\n",
            "11 \t 230 \t\t\t 20.90909090909091 \t 796 \t\t C\n",
            "8 \t 147 \t\t\t 18.375 \t 788 \t\t C\n",
            "1 \t 17 \t\t\t 17.0 \t 787 \t\t C\n",
            "3 \t 48 \t\t\t 16.0 \t 784 \t\t C\n",
            "3 \t 36 \t\t\t 12.0 \t 781 \t\t C\n",
            "59 \t 670 \t\t\t 11.35593220338983 \t 722 \t\t C\n",
            "7 \t 78 \t\t\t 11.142857142857142 \t 715 \t\t C\n",
            "31 \t 274 \t\t\t 8.838709677419354 \t 684 \t\t C\n",
            "52 \t 432 \t\t\t 8.307692307692308 \t 632 \t\t C\n",
            "9 \t 63 \t\t\t 7.0 \t 623 \t\t C\n",
            "6 \t 42 \t\t\t 7.0 \t 617 \t\t C\n",
            "4 \t 28 \t\t\t 7.0 \t 613 \t\t C\n",
            "42 \t 256 \t\t\t 6.095238095238095 \t 571 \t\t C\n",
            "65 \t 389 \t\t\t 5.984615384615385 \t 506 \t\t C\n",
            "22 \t 130 \t\t\t 5.909090909090909 \t 484 \t\t C\n",
            "80 \t 431 \t\t\t 5.3875 \t 404 \t\t C\n",
            "52 \t 276 \t\t\t 5.3076923076923075 \t 352 \t\t C\n",
            "15 \t 78 \t\t\t 5.2 \t 337 \t\t C\n",
            "18 \t 87 \t\t\t 4.833333333333333 \t 319 \t\t C\n",
            "84 \t 323 \t\t\t 3.8452380952380953 \t 235 \t\t C\n",
            "26 \t 92 \t\t\t 3.5384615384615383 \t 209 \t\t C\n",
            "47 \t 164 \t\t\t 3.4893617021276597 \t 162 \t\t C\n",
            "71 \t 210 \t\t\t 2.9577464788732395 \t 91 \t\t C\n",
            "66 \t 189 \t\t\t 2.8636363636363638 \t 25 \t\t C\n",
            "25.0 \t 71.43 \t\t\t 2.857142857142857 \t 0.0 \t\t P\n",
            "total weight: 850.0 total profit: 7555.43 remaining: 0.0\n"
          ]
        }
      ]
    },
    {
      "cell_type": "code",
      "source": [
        "min_wt(weight,profit)"
      ],
      "metadata": {
        "colab": {
          "base_uri": "https://localhost:8080/",
          "height": 0
        },
        "id": "TBfvbbBBKE12",
        "outputId": "e363f8d4-c2a4-48e1-f01a-ac561ab069bf"
      },
      "execution_count": 19,
      "outputs": [
        {
          "output_type": "stream",
          "name": "stdout",
          "text": [
            "weight \t profit \t\t remaining \t partiacl/complete\n",
            "1 \t 83 \t\t\t 849 \t\t C\n",
            "1 \t 600 \t\t\t 848 \t\t C\n",
            "1 \t 17 \t\t\t 847 \t\t C\n",
            "1 \t 33 \t\t\t 846 \t\t C\n",
            "2 \t 514 \t\t\t 844 \t\t C\n",
            "3 \t 48 \t\t\t 841 \t\t C\n",
            "3 \t 36 \t\t\t 838 \t\t C\n",
            "4 \t 28 \t\t\t 834 \t\t C\n",
            "6 \t 42 \t\t\t 828 \t\t C\n",
            "7 \t 360 \t\t\t 821 \t\t C\n",
            "7 \t 78 \t\t\t 814 \t\t C\n",
            "8 \t 147 \t\t\t 806 \t\t C\n",
            "9 \t 63 \t\t\t 797 \t\t C\n",
            "11 \t 230 \t\t\t 786 \t\t C\n",
            "13 \t 312 \t\t\t 773 \t\t C\n",
            "15 \t 78 \t\t\t 758 \t\t C\n",
            "18 \t 892 \t\t\t 740 \t\t C\n",
            "18 \t 87 \t\t\t 722 \t\t C\n",
            "20 \t 19 \t\t\t 702 \t\t C\n",
            "22 \t 130 \t\t\t 680 \t\t C\n",
            "26 \t 92 \t\t\t 654 \t\t C\n",
            "29 \t 50 \t\t\t 625 \t\t C\n",
            "29 \t 15 \t\t\t 596 \t\t C\n",
            "30 \t 59 \t\t\t 566 \t\t C\n",
            "31 \t 274 \t\t\t 535 \t\t C\n",
            "32 \t 35 \t\t\t 503 \t\t C\n",
            "36 \t 38 \t\t\t 467 \t\t C\n",
            "42 \t 256 \t\t\t 425 \t\t C\n",
            "42 \t 120 \t\t\t 383 \t\t C\n",
            "44 \t 78 \t\t\t 339 \t\t C\n",
            "47 \t 164 \t\t\t 292 \t\t C\n",
            "48 \t 110 \t\t\t 244 \t\t C\n",
            "52 \t 432 \t\t\t 192 \t\t C\n",
            "52 \t 276 \t\t\t 140 \t\t C\n",
            "55 \t 22 \t\t\t 85 \t\t C\n",
            "56 \t 73 \t\t\t 29 \t\t C\n",
            "29.0 \t 329.32 \t\t\t 0.0 \t\t P\n",
            "total weight: 850.0 total profit: 6220.32 remaining: 0.0\n"
          ]
        }
      ]
    },
    {
      "cell_type": "code",
      "source": [
        "max_profit(weight,profit)"
      ],
      "metadata": {
        "colab": {
          "base_uri": "https://localhost:8080/",
          "height": 0
        },
        "id": "-7bSt_kXLm44",
        "outputId": "31d2cb94-052d-43b7-aa75-dc979b157e01"
      },
      "execution_count": 20,
      "outputs": [
        {
          "output_type": "stream",
          "name": "stdout",
          "text": [
            "weight \t profit \t\t remaining \t partiacl/complete\n",
            "18 \t 892 \t\t\t 832 \t\t C\n",
            "59 \t 670 \t\t\t 773 \t\t C\n",
            "1 \t 600 \t\t\t 772 \t\t C\n",
            "2 \t 514 \t\t\t 770 \t\t C\n",
            "52 \t 432 \t\t\t 718 \t\t C\n",
            "80 \t 431 \t\t\t 638 \t\t C\n",
            "65 \t 389 \t\t\t 573 \t\t C\n",
            "7 \t 360 \t\t\t 566 \t\t C\n",
            "84 \t 323 \t\t\t 482 \t\t C\n",
            "13 \t 312 \t\t\t 469 \t\t C\n",
            "52 \t 276 \t\t\t 417 \t\t C\n",
            "31 \t 274 \t\t\t 386 \t\t C\n",
            "42 \t 256 \t\t\t 344 \t\t C\n",
            "11 \t 230 \t\t\t 333 \t\t C\n",
            "71 \t 210 \t\t\t 262 \t\t C\n",
            "66 \t 189 \t\t\t 196 \t\t C\n",
            "47 \t 164 \t\t\t 149 \t\t C\n",
            "8 \t 147 \t\t\t 141 \t\t C\n",
            "22 \t 130 \t\t\t 119 \t\t C\n",
            "64 \t 125 \t\t\t 55 \t\t C\n",
            "42 \t 120 \t\t\t 13 \t\t C\n",
            "13.0 \t 29.79 \t\t\t 0.0 \t\t P\n",
            "total weight: 850.0 total profit: 7073.79 remaining: 0.0\n"
          ]
        }
      ]
    },
    {
      "cell_type": "code",
      "source": [
        "max_pw(weight,profit)"
      ],
      "metadata": {
        "colab": {
          "base_uri": "https://localhost:8080/",
          "height": 0
        },
        "id": "1XIdEkj-Lrge",
        "outputId": "08db1f7f-8cfb-40ec-cf94-2bc75a42ef5e"
      },
      "execution_count": 21,
      "outputs": [
        {
          "output_type": "stream",
          "name": "stdout",
          "text": [
            "weight \t profit \t\t p/w \t remaining \t partiacl/complete\n",
            "1 \t 600 \t\t\t 600.0 \t 849 \t\t C\n",
            "2 \t 514 \t\t\t 257.0 \t 847 \t\t C\n",
            "1 \t 83 \t\t\t 83.0 \t 846 \t\t C\n",
            "7 \t 360 \t\t\t 51.42857142857143 \t 839 \t\t C\n",
            "18 \t 892 \t\t\t 49.55555555555556 \t 821 \t\t C\n",
            "1 \t 33 \t\t\t 33.0 \t 820 \t\t C\n",
            "13 \t 312 \t\t\t 24.0 \t 807 \t\t C\n",
            "11 \t 230 \t\t\t 20.90909090909091 \t 796 \t\t C\n",
            "8 \t 147 \t\t\t 18.375 \t 788 \t\t C\n",
            "1 \t 17 \t\t\t 17.0 \t 787 \t\t C\n",
            "3 \t 48 \t\t\t 16.0 \t 784 \t\t C\n",
            "3 \t 36 \t\t\t 12.0 \t 781 \t\t C\n",
            "59 \t 670 \t\t\t 11.35593220338983 \t 722 \t\t C\n",
            "7 \t 78 \t\t\t 11.142857142857142 \t 715 \t\t C\n",
            "31 \t 274 \t\t\t 8.838709677419354 \t 684 \t\t C\n",
            "52 \t 432 \t\t\t 8.307692307692308 \t 632 \t\t C\n",
            "9 \t 63 \t\t\t 7.0 \t 623 \t\t C\n",
            "6 \t 42 \t\t\t 7.0 \t 617 \t\t C\n",
            "4 \t 28 \t\t\t 7.0 \t 613 \t\t C\n",
            "42 \t 256 \t\t\t 6.095238095238095 \t 571 \t\t C\n",
            "65 \t 389 \t\t\t 5.984615384615385 \t 506 \t\t C\n",
            "22 \t 130 \t\t\t 5.909090909090909 \t 484 \t\t C\n",
            "80 \t 431 \t\t\t 5.3875 \t 404 \t\t C\n",
            "52 \t 276 \t\t\t 5.3076923076923075 \t 352 \t\t C\n",
            "15 \t 78 \t\t\t 5.2 \t 337 \t\t C\n",
            "18 \t 87 \t\t\t 4.833333333333333 \t 319 \t\t C\n",
            "84 \t 323 \t\t\t 3.8452380952380953 \t 235 \t\t C\n",
            "26 \t 92 \t\t\t 3.5384615384615383 \t 209 \t\t C\n",
            "47 \t 164 \t\t\t 3.4893617021276597 \t 162 \t\t C\n",
            "71 \t 210 \t\t\t 2.9577464788732395 \t 91 \t\t C\n",
            "66 \t 189 \t\t\t 2.8636363636363638 \t 25 \t\t C\n",
            "25.0 \t 71.43 \t\t\t 2.857142857142857 \t 0.0 \t\t P\n",
            "total weight: 850.0 total profit: 7555.43 remaining: 0.0\n"
          ]
        }
      ]
    },
    {
      "cell_type": "code",
      "source": [
        "import time\n",
        "import matplotlib.pyplot as plt\n",
        "\n",
        "times=[]\n",
        "print(\"\\nMINIMUM WEIGHT\\n\")\n",
        "start=time.time()\n",
        "min_wt(weight,profit)\n",
        "end=time.time()\n",
        "times.append(end-start)\n"
      ],
      "metadata": {
        "colab": {
          "base_uri": "https://localhost:8080/"
        },
        "id": "S7NtvNVGLuLq",
        "outputId": "86c4f5f7-0822-41be-abc9-62b7775b9354"
      },
      "execution_count": 26,
      "outputs": [
        {
          "output_type": "stream",
          "name": "stdout",
          "text": [
            "\n",
            "MINIMUM WEIGHT\n",
            "\n",
            "weight \t profit \t\t remaining \t partiacl/complete\n",
            "1 \t 83 \t\t\t 849 \t\t C\n",
            "1 \t 600 \t\t\t 848 \t\t C\n",
            "1 \t 17 \t\t\t 847 \t\t C\n",
            "1 \t 33 \t\t\t 846 \t\t C\n",
            "2 \t 514 \t\t\t 844 \t\t C\n",
            "3 \t 48 \t\t\t 841 \t\t C\n",
            "3 \t 36 \t\t\t 838 \t\t C\n",
            "4 \t 28 \t\t\t 834 \t\t C\n",
            "6 \t 42 \t\t\t 828 \t\t C\n",
            "7 \t 360 \t\t\t 821 \t\t C\n",
            "7 \t 78 \t\t\t 814 \t\t C\n",
            "8 \t 147 \t\t\t 806 \t\t C\n",
            "9 \t 63 \t\t\t 797 \t\t C\n",
            "11 \t 230 \t\t\t 786 \t\t C\n",
            "13 \t 312 \t\t\t 773 \t\t C\n",
            "15 \t 78 \t\t\t 758 \t\t C\n",
            "18 \t 892 \t\t\t 740 \t\t C\n",
            "18 \t 87 \t\t\t 722 \t\t C\n",
            "20 \t 19 \t\t\t 702 \t\t C\n",
            "22 \t 130 \t\t\t 680 \t\t C\n",
            "26 \t 92 \t\t\t 654 \t\t C\n",
            "29 \t 50 \t\t\t 625 \t\t C\n",
            "29 \t 15 \t\t\t 596 \t\t C\n",
            "30 \t 59 \t\t\t 566 \t\t C\n",
            "31 \t 274 \t\t\t 535 \t\t C\n",
            "32 \t 35 \t\t\t 503 \t\t C\n",
            "36 \t 38 \t\t\t 467 \t\t C\n",
            "42 \t 256 \t\t\t 425 \t\t C\n",
            "42 \t 120 \t\t\t 383 \t\t C\n",
            "44 \t 78 \t\t\t 339 \t\t C\n",
            "47 \t 164 \t\t\t 292 \t\t C\n",
            "48 \t 110 \t\t\t 244 \t\t C\n",
            "52 \t 432 \t\t\t 192 \t\t C\n",
            "52 \t 276 \t\t\t 140 \t\t C\n",
            "55 \t 22 \t\t\t 85 \t\t C\n",
            "56 \t 73 \t\t\t 29 \t\t C\n",
            "29.0 \t 329.32 \t\t\t 0.0 \t\t P\n",
            "total weight: 850.0 total profit: 6220.32 remaining: 0.0\n"
          ]
        }
      ]
    },
    {
      "cell_type": "code",
      "source": [
        "print(\"\\nMAXIMUM PROFIT\\n\")\n",
        "start=time.time()\n",
        "max_profit(weight,profit)\n",
        "end=time.time()\n",
        "times.append(end-start)\n"
      ],
      "metadata": {
        "id": "d0i1Kw-JM9AX",
        "colab": {
          "base_uri": "https://localhost:8080/"
        },
        "outputId": "c8458127-0ab2-4fd1-8e31-695372d6b2d2"
      },
      "execution_count": 27,
      "outputs": [
        {
          "output_type": "stream",
          "name": "stdout",
          "text": [
            "\n",
            "MAXIMUM PROFIT\n",
            "\n",
            "weight \t profit \t\t remaining \t partiacl/complete\n",
            "18 \t 892 \t\t\t 832 \t\t C\n",
            "59 \t 670 \t\t\t 773 \t\t C\n",
            "1 \t 600 \t\t\t 772 \t\t C\n",
            "2 \t 514 \t\t\t 770 \t\t C\n",
            "52 \t 432 \t\t\t 718 \t\t C\n",
            "80 \t 431 \t\t\t 638 \t\t C\n",
            "65 \t 389 \t\t\t 573 \t\t C\n",
            "7 \t 360 \t\t\t 566 \t\t C\n",
            "84 \t 323 \t\t\t 482 \t\t C\n",
            "13 \t 312 \t\t\t 469 \t\t C\n",
            "52 \t 276 \t\t\t 417 \t\t C\n",
            "31 \t 274 \t\t\t 386 \t\t C\n",
            "42 \t 256 \t\t\t 344 \t\t C\n",
            "11 \t 230 \t\t\t 333 \t\t C\n",
            "71 \t 210 \t\t\t 262 \t\t C\n",
            "66 \t 189 \t\t\t 196 \t\t C\n",
            "47 \t 164 \t\t\t 149 \t\t C\n",
            "8 \t 147 \t\t\t 141 \t\t C\n",
            "22 \t 130 \t\t\t 119 \t\t C\n",
            "64 \t 125 \t\t\t 55 \t\t C\n",
            "42 \t 120 \t\t\t 13 \t\t C\n",
            "13.0 \t 29.79 \t\t\t 0.0 \t\t P\n",
            "total weight: 850.0 total profit: 7073.79 remaining: 0.0\n"
          ]
        }
      ]
    },
    {
      "cell_type": "code",
      "source": [
        "print(\"\\nMAXIMUM P/W\\n\")\n",
        "start=time.time()\n",
        "max_pw(weight,profit)\n",
        "end=time.time()\n",
        "times.append(end-start)\n",
        "\n"
      ],
      "metadata": {
        "colab": {
          "base_uri": "https://localhost:8080/"
        },
        "id": "DHa4Vj3jEaxw",
        "outputId": "b4923ac5-f8a1-4c19-8dfd-3991b165cc46"
      },
      "execution_count": 28,
      "outputs": [
        {
          "output_type": "stream",
          "name": "stdout",
          "text": [
            "\n",
            "MAXIMUM P/W\n",
            "\n",
            "weight \t profit \t\t p/w \t remaining \t partiacl/complete\n",
            "1 \t 600 \t\t\t 600.0 \t 849 \t\t C\n",
            "2 \t 514 \t\t\t 257.0 \t 847 \t\t C\n",
            "1 \t 83 \t\t\t 83.0 \t 846 \t\t C\n",
            "7 \t 360 \t\t\t 51.42857142857143 \t 839 \t\t C\n",
            "18 \t 892 \t\t\t 49.55555555555556 \t 821 \t\t C\n",
            "1 \t 33 \t\t\t 33.0 \t 820 \t\t C\n",
            "13 \t 312 \t\t\t 24.0 \t 807 \t\t C\n",
            "11 \t 230 \t\t\t 20.90909090909091 \t 796 \t\t C\n",
            "8 \t 147 \t\t\t 18.375 \t 788 \t\t C\n",
            "1 \t 17 \t\t\t 17.0 \t 787 \t\t C\n",
            "3 \t 48 \t\t\t 16.0 \t 784 \t\t C\n",
            "3 \t 36 \t\t\t 12.0 \t 781 \t\t C\n",
            "59 \t 670 \t\t\t 11.35593220338983 \t 722 \t\t C\n",
            "7 \t 78 \t\t\t 11.142857142857142 \t 715 \t\t C\n",
            "31 \t 274 \t\t\t 8.838709677419354 \t 684 \t\t C\n",
            "52 \t 432 \t\t\t 8.307692307692308 \t 632 \t\t C\n",
            "9 \t 63 \t\t\t 7.0 \t 623 \t\t C\n",
            "6 \t 42 \t\t\t 7.0 \t 617 \t\t C\n",
            "4 \t 28 \t\t\t 7.0 \t 613 \t\t C\n",
            "42 \t 256 \t\t\t 6.095238095238095 \t 571 \t\t C\n",
            "65 \t 389 \t\t\t 5.984615384615385 \t 506 \t\t C\n",
            "22 \t 130 \t\t\t 5.909090909090909 \t 484 \t\t C\n",
            "80 \t 431 \t\t\t 5.3875 \t 404 \t\t C\n",
            "52 \t 276 \t\t\t 5.3076923076923075 \t 352 \t\t C\n",
            "15 \t 78 \t\t\t 5.2 \t 337 \t\t C\n",
            "18 \t 87 \t\t\t 4.833333333333333 \t 319 \t\t C\n",
            "84 \t 323 \t\t\t 3.8452380952380953 \t 235 \t\t C\n",
            "26 \t 92 \t\t\t 3.5384615384615383 \t 209 \t\t C\n",
            "47 \t 164 \t\t\t 3.4893617021276597 \t 162 \t\t C\n",
            "71 \t 210 \t\t\t 2.9577464788732395 \t 91 \t\t C\n",
            "66 \t 189 \t\t\t 2.8636363636363638 \t 25 \t\t C\n",
            "25.0 \t 71.43 \t\t\t 2.857142857142857 \t 0.0 \t\t P\n",
            "total weight: 850.0 total profit: 7555.43 remaining: 0.0\n"
          ]
        }
      ]
    },
    {
      "cell_type": "code",
      "source": [
        "plt.plot(times)\n",
        "plt.xticks([0,1,2],[\"Min Weight\",\"Max Profit\",\"Max P/W\"])"
      ],
      "metadata": {
        "colab": {
          "base_uri": "https://localhost:8080/",
          "height": 503
        },
        "id": "xx-atUonEevo",
        "outputId": "4e79e1bd-91f9-46fc-a3b7-7ac3e255f926"
      },
      "execution_count": 29,
      "outputs": [
        {
          "output_type": "execute_result",
          "data": {
            "text/plain": [
              "([<matplotlib.axis.XTick at 0x7ef4f07ae200>,\n",
              "  <matplotlib.axis.XTick at 0x7ef4f07ae7a0>,\n",
              "  <matplotlib.axis.XTick at 0x7ef4f07af010>],\n",
              " [Text(0, 0, 'Min Weight'), Text(1, 0, 'Max Profit'), Text(2, 0, 'Max P/W')])"
            ]
          },
          "metadata": {},
          "execution_count": 29
        },
        {
          "output_type": "display_data",
          "data": {
            "text/plain": [
              "<Figure size 640x480 with 1 Axes>"
            ],
            "image/png": "[encoded data removed]"
          },
          "metadata": {}
        }
      ]
    }
  ]
}