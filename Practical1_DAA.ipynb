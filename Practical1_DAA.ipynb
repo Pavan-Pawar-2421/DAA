{
  "nbformat": 4,
  "nbformat_minor": 0,
  "metadata": {
    "colab": {
      "provenance": []
    },
    "kernelspec": {
      "name": "python3",
      "display_name": "Python 3"
    },
    "language_info": {
      "name": "python"
    }
  },
  "cells": [
    {
      "cell_type": "code",
      "source": [
        "from google.colab import files\n"
      ],
      "metadata": {
        "id": "E9-q-mMmPQHZ"
      },
      "execution_count": 3,
      "outputs": []
    },
    {
      "cell_type": "code",
      "source": [
        "files.upload()"
      ],
      "metadata": {
        "colab": {
          "base_uri": "https://localhost:8080/",
          "height": 216
        },
        "id": "3ATrAZiTPVxP",
        "outputId": "93903832-5a3d-444f-c673-6f7827fb1f4d"
      },
      "execution_count": 4,
      "outputs": [
        {
          "output_type": "display_data",
          "data": {
            "text/plain": [
              "<IPython.core.display.HTML object>"
            ],
            "text/html": [
              "\n",
              "     <input type=\"file\" id=\"files-936a53b9-2d69-4523-ab79-0cb5481eaaa9\" name=\"files[]\" multiple disabled\n",
              "        style=\"border:none\" />\n",
              "     <output id=\"result-936a53b9-2d69-4523-ab79-0cb5481eaaa9\">\n",
              "      Upload widget is only available when the cell has been executed in the\n",
              "      current browser session. Please rerun this cell to enable.\n",
              "      </output>\n",
              "      <script>// Copyright 2017 Google LLC\n",
              "//\n",
              "// Licensed under the Apache License, Version 2.0 (the \"License\");\n",
              "// you may not use this file except in compliance with the License.\n",
              "// You may obtain a copy of the License at\n",
              "//\n",
              "//      http://www.apache.org/licenses/LICENSE-2.0\n",
              "//\n",
              "// Unless required by applicable law or agreed to in writing, software\n",
              "// distributed under the License is distributed on an \"AS IS\" BASIS,\n",
              "// WITHOUT WARRANTIES OR CONDITIONS OF ANY KIND, either express or implied.\n",
              "// See the License for the specific language governing permissions and\n",
              "// limitations under the License.\n",
              "\n",
              "/**\n",
              " * @fileoverview Helpers for google.colab Python module.\n",
              " */\n",
              "(function(scope) {\n",
              "function span(text, styleAttributes = {}) {\n",
              "  const element = document.createElement('span');\n",
              "  element.textContent = text;\n",
              "  for (const key of Object.keys(styleAttributes)) {\n",
              "    element.style[key] = styleAttributes[key];\n",
              "  }\n",
              "  return element;\n",
              "}\n",
              "\n",
              "// Max number of bytes which will be uploaded at a time.\n",
              "const MAX_PAYLOAD_SIZE = 100 * 1024;\n",
              "\n",
              "function _uploadFiles(inputId, outputId) {\n",
              "  const steps = uploadFilesStep(inputId, outputId);\n",
              "  const outputElement = document.getElementById(outputId);\n",
              "  // Cache steps on the outputElement to make it available for the next call\n",
              "  // to uploadFilesContinue from Python.\n",
              "  outputElement.steps = steps;\n",
              "\n",
              "  return _uploadFilesContinue(outputId);\n",
              "}\n",
              "\n",
              "// This is roughly an async generator (not supported in the browser yet),\n",
              "// where there are multiple asynchronous steps and the Python side is going\n",
              "// to poll for completion of each step.\n",
              "// This uses a Promise to block the python side on completion of each step,\n",
              "// then passes the result of the previous step as the input to the next step.\n",
              "function _uploadFilesContinue(outputId) {\n",
              "  const outputElement = document.getElementById(outputId);\n",
              "  const steps = outputElement.steps;\n",
              "\n",
              "  const next = steps.next(outputElement.lastPromiseValue);\n",
              "  return Promise.resolve(next.value.promise).then((value) => {\n",
              "    // Cache the last promise value to make it available to the next\n",
              "    // step of the generator.\n",
              "    outputElement.lastPromiseValue = value;\n",
              "    return next.value.response;\n",
              "  });\n",
              "}\n",
              "\n",
              "/**\n",
              " * Generator function which is called between each async step of the upload\n",
              " * process.\n",
              " * @param {string} inputId Element ID of the input file picker element.\n",
              " * @param {string} outputId Element ID of the output display.\n",
              " * @return {!Iterable<!Object>} Iterable of next steps.\n",
              " */\n",
              "function* uploadFilesStep(inputId, outputId) {\n",
              "  const inputElement = document.getElementById(inputId);\n",
              "  inputElement.disabled = false;\n",
              "\n",
              "  const outputElement = document.getElementById(outputId);\n",
              "  outputElement.innerHTML = '';\n",
              "\n",
              "  const pickedPromise = new Promise((resolve) => {\n",
              "    inputElement.addEventListener('change', (e) => {\n",
              "      resolve(e.target.files);\n",
              "    });\n",
              "  });\n",
              "\n",
              "  const cancel = document.createElement('button');\n",
              "  inputElement.parentElement.appendChild(cancel);\n",
              "  cancel.textContent = 'Cancel upload';\n",
              "  const cancelPromise = new Promise((resolve) => {\n",
              "    cancel.onclick = () => {\n",
              "      resolve(null);\n",
              "    };\n",
              "  });\n",
              "\n",
              "  // Wait for the user to pick the files.\n",
              "  const files = yield {\n",
              "    promise: Promise.race([pickedPromise, cancelPromise]),\n",
              "    response: {\n",
              "      action: 'starting',\n",
              "    }\n",
              "  };\n",
              "\n",
              "  cancel.remove();\n",
              "\n",
              "  // Disable the input element since further picks are not allowed.\n",
              "  inputElement.disabled = true;\n",
              "\n",
              "  if (!files) {\n",
              "    return {\n",
              "      response: {\n",
              "        action: 'complete',\n",
              "      }\n",
              "    };\n",
              "  }\n",
              "\n",
              "  for (const file of files) {\n",
              "    const li = document.createElement('li');\n",
              "    li.append(span(file.name, {fontWeight: 'bold'}));\n",
              "    li.append(span(\n",
              "        `(${file.type || 'n/a'}) - ${file.size} bytes, ` +\n",
              "        `last modified: ${\n",
              "            file.lastModifiedDate ? file.lastModifiedDate.toLocaleDateString() :\n",
              "                                    'n/a'} - `));\n",
              "    const percent = span('0% done');\n",
              "    li.appendChild(percent);\n",
              "\n",
              "    outputElement.appendChild(li);\n",
              "\n",
              "    const fileDataPromise = new Promise((resolve) => {\n",
              "      const reader = new FileReader();\n",
              "      reader.onload = (e) => {\n",
              "        resolve(e.target.result);\n",
              "      };\n",
              "      reader.readAsArrayBuffer(file);\n",
              "    });\n",
              "    // Wait for the data to be ready.\n",
              "    let fileData = yield {\n",
              "      promise: fileDataPromise,\n",
              "      response: {\n",
              "        action: 'continue',\n",
              "      }\n",
              "    };\n",
              "\n",
              "    // Use a chunked sending to avoid message size limits. See b/62115660.\n",
              "    let position = 0;\n",
              "    do {\n",
              "      const length = Math.min(fileData.byteLength - position, MAX_PAYLOAD_SIZE);\n",
              "      const chunk = new Uint8Array(fileData, position, length);\n",
              "      position += length;\n",
              "\n",
              "      const base64 = btoa(String.fromCharCode.apply(null, chunk));\n",
              "      yield {\n",
              "        response: {\n",
              "          action: 'append',\n",
              "          file: file.name,\n",
              "          data: base64,\n",
              "        },\n",
              "      };\n",
              "\n",
              "      let percentDone = fileData.byteLength === 0 ?\n",
              "          100 :\n",
              "          Math.round((position / fileData.byteLength) * 100);\n",
              "      percent.textContent = `${percentDone}% done`;\n",
              "\n",
              "    } while (position < fileData.byteLength);\n",
              "  }\n",
              "\n",
              "  // All done.\n",
              "  yield {\n",
              "    response: {\n",
              "      action: 'complete',\n",
              "    }\n",
              "  };\n",
              "}\n",
              "\n",
              "scope.google = scope.google || {};\n",
              "scope.google.colab = scope.google.colab || {};\n",
              "scope.google.colab._files = {\n",
              "  _uploadFiles,\n",
              "  _uploadFilesContinue,\n",
              "};\n",
              "})(self);\n",
              "</script> "
            ]
          },
          "metadata": {}
        },
        {
          "output_type": "stream",
          "name": "stdout",
          "text": [
            "Saving data500.csv to data500.csv\n",
            "Saving test2.csv to test2.csv\n",
            "Saving test4.csv to test4.csv\n",
            "Saving test3.csv to test3.csv\n",
            "Saving test1.csv to test1.csv\n"
          ]
        }
      ]
    },
    {
      "cell_type": "code",
      "source": [
        "import csv\n",
        "import time\n",
        "import random\n",
        "import matplotlib.pyplot as plt"
      ],
      "metadata": {
        "id": "xPK1teoZT4jD"
      },
      "execution_count": 5,
      "outputs": []
    },
    {
      "cell_type": "code",
      "source": [
        "\n",
        "def find_min_max_bruteforce(prices):\n",
        "    if not prices:\n",
        "        return None, None\n",
        "\n",
        "    min_price = max_price = prices[0]\n",
        "\n",
        "    for price in prices:\n",
        "        if price < min_price:\n",
        "            min_price = price\n",
        "        elif price > max_price:\n",
        "            max_price = price\n",
        "\n",
        "    return min_price, max_price\n",
        "\n",
        "def find_min_max_divide_conquer(prices):\n",
        "    if not prices:\n",
        "        return None, None\n",
        "\n",
        "    if len(prices) == 1:\n",
        "        return prices[0], prices[0]\n",
        "\n",
        "    if len(prices) == 2:\n",
        "        return (prices[0], prices[1]) if prices[0] < prices[1] else (prices[1], prices[0])\n",
        "\n",
        "    mid = len(prices) // 2\n",
        "    left_min, left_max = find_min_max_divide_conquer(prices[:mid])\n",
        "    right_min, right_max = find_min_max_divide_conquer(prices[mid:])\n",
        "\n",
        "    return min(left_min, right_min), max(left_max, right_max)\n",
        "\n",
        "\n"
      ],
      "metadata": {
        "id": "gTSBGb0oT-Tb"
      },
      "execution_count": 6,
      "outputs": []
    },
    {
      "cell_type": "code",
      "source": [
        "def compare(s,n):\n",
        "  stock_prices = []\n",
        "\n",
        "\n",
        "  with open(s, 'r') as file:\n",
        "      csv_reader = csv.reader(file)\n",
        "\n",
        "\n",
        "      next(csv_reader, None)\n",
        "\n",
        "\n",
        "      for row in csv_reader:\n",
        "            price = float(row[n])\n",
        "            stock_prices.append(price)\n",
        "\n",
        "\n",
        "\n",
        "  start_time = time.time()\n",
        "  min_price_bruteforce, max_price_bruteforce = find_min_max_bruteforce(stock_prices)\n",
        "  end_time = time.time()\n",
        "  bruteforce_time = end_time - start_time\n",
        "\n",
        "\n",
        "  start_time = time.time()\n",
        "  min_price_divide_conquer, max_price_divide_conquer = find_min_max_divide_conquer(stock_prices)\n",
        "  end_time = time.time()\n",
        "  divide_conquer_time = end_time - start_time\n",
        "\n",
        "  print(f\"Brute Force - Minimum: {min_price_bruteforce}\")\n",
        "  print(f\"Brute Force - Maximum: {max_price_bruteforce}\")\n",
        "  print(f\"Time taken by Brute Force: {bruteforce_time:.6f} seconds\\n\")\n",
        "\n",
        "  print(f\"Divide and Conquer - Minimum: {min_price_divide_conquer}\")\n",
        "  print(f\"Divide and Conquer - Maximum: {max_price_divide_conquer}\")\n",
        "  print(f\"Time taken by Divide and Conquer: {divide_conquer_time:.6f} seconds\")\n",
        "\n"
      ],
      "metadata": {
        "id": "geRNphljUV-M"
      },
      "execution_count": 27,
      "outputs": []
    },
    {
      "cell_type": "code",
      "source": [
        "compare('data500.csv',0)"
      ],
      "metadata": {
        "colab": {
          "base_uri": "https://localhost:8080/"
        },
        "id": "93y_po0fn2vT",
        "outputId": "5a35ae5f-d5de-4eb1-d678-434884abe7cd"
      },
      "execution_count": 28,
      "outputs": [
        {
          "output_type": "stream",
          "name": "stdout",
          "text": [
            "Brute Force - Minimum: 4.0\n",
            "Brute Force - Maximum: 998.0\n",
            "Time taken by Brute Force: 0.000098 seconds\n",
            "\n",
            "Divide and Conquer - Minimum: 4.0\n",
            "Divide and Conquer - Maximum: 998.0\n",
            "Time taken by Divide and Conquer: 0.000624 seconds\n"
          ]
        }
      ]
    },
    {
      "cell_type": "code",
      "source": [
        "compare('test1.csv',4)"
      ],
      "metadata": {
        "colab": {
          "base_uri": "https://localhost:8080/"
        },
        "id": "QBPQkcGgn9wq",
        "outputId": "562f251a-f7d2-469f-e621-5f27a6939a03"
      },
      "execution_count": 29,
      "outputs": [
        {
          "output_type": "stream",
          "name": "stdout",
          "text": [
            "Brute Force - Minimum: 34.24\n",
            "Brute Force - Maximum: 41.03\n",
            "Time taken by Brute Force: 0.000008 seconds\n",
            "\n",
            "Divide and Conquer - Minimum: 34.24\n",
            "Divide and Conquer - Maximum: 41.03\n",
            "Time taken by Divide and Conquer: 0.000041 seconds\n"
          ]
        }
      ]
    },
    {
      "cell_type": "code",
      "source": [
        "compare('test2.csv',4)"
      ],
      "metadata": {
        "colab": {
          "base_uri": "https://localhost:8080/"
        },
        "id": "y23AGcJ7oXxk",
        "outputId": "5b6a663b-5f76-4f79-ba0d-cdc28d75cfbc"
      },
      "execution_count": 30,
      "outputs": [
        {
          "output_type": "stream",
          "name": "stdout",
          "text": [
            "Brute Force - Minimum: -3116.285383\n",
            "Brute Force - Maximum: 2621.62843\n",
            "Time taken by Brute Force: 0.063544 seconds\n",
            "\n",
            "Divide and Conquer - Minimum: -3116.285383\n",
            "Divide and Conquer - Maximum: 2621.62843\n",
            "Time taken by Divide and Conquer: 0.706622 seconds\n"
          ]
        }
      ]
    },
    {
      "cell_type": "code",
      "source": [
        "compare('test3.csv',4)"
      ],
      "metadata": {
        "colab": {
          "base_uri": "https://localhost:8080/"
        },
        "id": "vU86BQ47ovuT",
        "outputId": "06ae3843-0cc4-4135-ffb0-121438a768c8"
      },
      "execution_count": 31,
      "outputs": [
        {
          "output_type": "stream",
          "name": "stdout",
          "text": [
            "Brute Force - Minimum: 1.59\n",
            "Brute Force - Maximum: 2049.0\n",
            "Time taken by Brute Force: 0.037464 seconds\n",
            "\n",
            "Divide and Conquer - Minimum: 1.59\n",
            "Divide and Conquer - Maximum: 2049.0\n",
            "Time taken by Divide and Conquer: 0.475679 seconds\n"
          ]
        }
      ]
    },
    {
      "cell_type": "code",
      "source": [
        "\n",
        "\n",
        "def find_min_max_bruteforce(prices):\n",
        "    if not prices:\n",
        "        return None, None\n",
        "\n",
        "    min_price = max_price = prices[0]\n",
        "    count=0\n",
        "    for price in prices:\n",
        "        count+=1\n",
        "        if price < min_price:\n",
        "            min_price = price\n",
        "        elif price > max_price:\n",
        "            max_price = price\n",
        "\n",
        "    return min_price, max_price,count\n",
        "\n",
        "def find_min_max_divide_conquer(prices,count=0):\n",
        "    count=0\n",
        "    if not prices:\n",
        "        return None, None\n",
        "\n",
        "    if len(prices) == 1:\n",
        "        return prices[0], prices[0],count\n",
        "\n",
        "    if len(prices) == 2:\n",
        "        count+=1\n",
        "        return (prices[0], prices[1],count) if prices[0] < prices[1] else (prices[1], prices[0],count)\n",
        "\n",
        "    mid = len(prices) // 2\n",
        "    left_min, left_max ,c_l= find_min_max_divide_conquer(prices[:mid],count)\n",
        "    right_min, right_max ,c_r= find_min_max_divide_conquer(prices[mid:],count)\n",
        "\n",
        "    count=c_l+c_r\n",
        "    return min(left_min, right_min), max(left_max, right_max),count\n",
        "\n",
        "\n",
        "stock_prices = []\n",
        "\n",
        "\n",
        "with open('data500.csv', 'r') as file:\n",
        "    csv_reader = csv.reader(file)\n",
        "\n",
        "\n",
        "    next(csv_reader, None)\n",
        "\n",
        "\n",
        "    for row in csv_reader:\n",
        "          price = float(row[0])\n",
        "          stock_prices.append(price)\n",
        "\n",
        "\n",
        "\n",
        "start_time = time.time()\n",
        "min_price_bruteforce, max_price_bruteforce ,c_bf= find_min_max_bruteforce(stock_prices)\n",
        "end_time = time.time()\n",
        "bruteforce_time = end_time - start_time\n",
        "\n",
        "\n",
        "start_time = time.time()\n",
        "min_price_divide_conquer, max_price_divide_conquer,c_dc = find_min_max_divide_conquer(stock_prices)\n",
        "end_time = time.time()\n",
        "divide_conquer_time = end_time - start_time\n",
        "\n",
        "print(f\"Brute Force - Minimum stock price: {min_price_bruteforce}\")\n",
        "print(f\"Brute Force - Maximum stock price: {max_price_bruteforce}\")\n",
        "print(f\"number of comaprisons: {c_bf}\")\n",
        "print(f\"Time taken by Brute Force: {bruteforce_time:.6f} seconds\\n\")\n",
        "\n",
        "print(f\"Divide and Conquer - Minimum stock price: {min_price_divide_conquer}\")\n",
        "print(f\"Divide and Conquer - Maximum stock price: {max_price_divide_conquer}\")\n",
        "print(f\"number of comaprisons: {c_dc}\")\n",
        "print(f\"Time taken by Divide and Conquer: {divide_conquer_time:.6f} seconds\")\n",
        "\n",
        "execution_times_bruteforce = []\n",
        "execution_times_divide_conquer = []\n",
        "input_sizes = []\n",
        "\n",
        "\n",
        "for input_size in range(10, 20000, 1000):\n",
        "    input_sizes.append(input_size)\n",
        "\n",
        "\n",
        "    random_prices = [i for i in range(input_size)]\n",
        "\n",
        "\n",
        "\n",
        "    c_bf=find_min_max_bruteforce(random_prices)[-1]\n",
        "\n",
        "    execution_times_bruteforce.append(c_bf)\n",
        "\n",
        "\n",
        "    c_dc=find_min_max_divide_conquer(random_prices)[-1]\n",
        "\n",
        "    execution_times_divide_conquer.append(c_dc)\n",
        "\n",
        "\n",
        "plt.plot(input_sizes, execution_times_bruteforce, label='Brute Force')\n",
        "plt.plot(input_sizes, execution_times_divide_conquer, label='Divide and Conquer')\n",
        "plt.xlabel('Input Size')\n",
        "plt.ylabel('number of comaprisons')\n",
        "plt.title('Number of comparisons')\n",
        "plt.legend()\n",
        "plt.grid(True)\n",
        "plt.show()\n"
      ],
      "metadata": {
        "colab": {
          "base_uri": "https://localhost:8080/",
          "height": 628
        },
        "id": "KJMpOGMoeBjQ",
        "outputId": "75594740-a4fb-44b5-e8f2-8e67573f5ac8"
      },
      "execution_count": null,
      "outputs": [
        {
          "output_type": "stream",
          "name": "stdout",
          "text": [
            "Brute Force - Minimum stock price: 4.0\n",
            "Brute Force - Maximum stock price: 998.0\n",
            "number of comaprisons: 500\n",
            "Time taken by Brute Force: 0.000189 seconds\n",
            "\n",
            "Divide and Conquer - Minimum stock price: 4.0\n",
            "Divide and Conquer - Maximum stock price: 998.0\n",
            "number of comaprisons: 244\n",
            "Time taken by Divide and Conquer: 0.001005 seconds\n"
          ]
        },
        {
          "output_type": "display_data",
          "data": {
            "text/plain": [
              "<Figure size 640x480 with 1 Axes>"
            ],
            "image/png": "[encoded data removed]"
          },
          "metadata": {}
        }
      ]
    },
    {
      "cell_type": "code",
      "source": [
        "def quick_sort(arr):\n",
        "    if len(arr) <= 1:\n",
        "        return arr\n",
        "\n",
        "    pivot = arr[len(arr) // 2]\n",
        "    left = [x for x in arr if x < pivot]\n",
        "    middle = [x for x in arr if x == pivot]\n",
        "    right = [x for x in arr if x > pivot]\n",
        "\n",
        "    return quick_sort(left) + middle + quick_sort(right)\n",
        "\n",
        "import random\n",
        "\n",
        "\n",
        "n_values = [1000, 5000, 10000, 20000, 30000]\n",
        "time_records = []\n",
        "\n",
        "for n in n_values:\n",
        "    random_integers = [random.randint(1, 100000) for _ in range(n)]\n",
        "\n",
        "    start_time = time.time()\n",
        "    sorted_integers = quick_sort(random_integers)\n",
        "    end_time = time.time()\n",
        "\n",
        "    time_taken = end_time - start_time\n",
        "    time_records.append(time_taken)\n",
        "\n",
        "    print(f\"Time taken to sort {n} elements:\", time_taken, \"seconds\")\n",
        "\n",
        "plt.plot(n_values, time_records)\n",
        "plt.xlabel('Number of Elements (n)')\n",
        "plt.ylabel('Time (seconds)')\n",
        "plt.title('Quick Sort Time Complexity Analysis')\n",
        "plt.show()\n"
      ],
      "metadata": {
        "colab": {
          "base_uri": "https://localhost:8080/",
          "height": 559
        },
        "id": "fKUH4RSuTgAi",
        "outputId": "c51c30fb-8df0-4468-867f-018c6897a8da"
      },
      "execution_count": null,
      "outputs": [
        {
          "output_type": "stream",
          "name": "stdout",
          "text": [
            "Time taken to sort 1000 elements: 0.0072209835052490234 seconds\n",
            "Time taken to sort 5000 elements: 0.01628255844116211 seconds\n",
            "Time taken to sort 10000 elements: 0.03320646286010742 seconds\n",
            "Time taken to sort 20000 elements: 0.0649864673614502 seconds\n",
            "Time taken to sort 30000 elements: 0.1041116714477539 seconds\n"
          ]
        },
        {
          "output_type": "display_data",
          "data": {
            "text/plain": [
              "<Figure size 640x480 with 1 Axes>"
            ],
            "image/png": "[encoded data removed]"
          },
          "metadata": {}
        }
      ]
    },
    {
      "cell_type": "code",
      "source": [],
      "metadata": {
        "id": "EkFL9NxDeGDC"
      },
      "execution_count": null,
      "outputs": []
    }
  ]
}
